{
 "cells": [
  {
   "cell_type": "code",
   "execution_count": 3,
   "id": "initial_id",
   "metadata": {
    "collapsed": true,
    "ExecuteTime": {
     "end_time": "2023-10-09T10:06:11.737157300Z",
     "start_time": "2023-10-09T10:06:10.677174800Z"
    }
   },
   "outputs": [],
   "source": [
    "x=int(input())"
   ]
  },
  {
   "cell_type": "code",
   "execution_count": 5,
   "outputs": [
    {
     "name": "stdout",
     "output_type": "stream",
     "text": [
      "2的二进制形式是0b10、八进制形式是0o2、十六进制形式是0x2: \n"
     ]
    }
   ],
   "source": [
    "print(\"{}的二进制形式是{}、八进制形式是{}、十六进制形式是{}: \".format(x,bin(x),oct(x),hex(x)))"
   ],
   "metadata": {
    "collapsed": false,
    "ExecuteTime": {
     "end_time": "2023-10-09T10:06:34.148149100Z",
     "start_time": "2023-10-09T10:06:34.130911500Z"
    }
   },
   "id": "a32eb6ccd7132e5e"
  }
 ],
 "metadata": {
  "kernelspec": {
   "display_name": "Python 3",
   "language": "python",
   "name": "python3"
  },
  "language_info": {
   "codemirror_mode": {
    "name": "ipython",
    "version": 2
   },
   "file_extension": ".py",
   "mimetype": "text/x-python",
   "name": "python",
   "nbconvert_exporter": "python",
   "pygments_lexer": "ipython2",
   "version": "2.7.6"
  }
 },
 "nbformat": 4,
 "nbformat_minor": 5
}
