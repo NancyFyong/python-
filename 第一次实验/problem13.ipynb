{
 "cells": [
  {
   "cell_type": "code",
   "execution_count": 5,
   "id": "initial_id",
   "metadata": {
    "collapsed": true,
    "ExecuteTime": {
     "end_time": "2023-10-09T10:43:46.969565Z",
     "start_time": "2023-10-09T10:43:46.959591600Z"
    }
   },
   "outputs": [],
   "source": [
    "# 写入字符串到文件d：/university.dat\n",
    "with open(\"./university.dat\", \"w\") as file:\n",
    "    print(\"吉首大学计算机学院\", file=file)\n"
   ]
  }
 ],
 "metadata": {
  "kernelspec": {
   "display_name": "Python 3",
   "language": "python",
   "name": "python3"
  },
  "language_info": {
   "codemirror_mode": {
    "name": "ipython",
    "version": 2
   },
   "file_extension": ".py",
   "mimetype": "text/x-python",
   "name": "python",
   "nbconvert_exporter": "python",
   "pygments_lexer": "ipython2",
   "version": "2.7.6"
  }
 },
 "nbformat": 4,
 "nbformat_minor": 5
}
