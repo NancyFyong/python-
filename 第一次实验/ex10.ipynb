{
 "cells": [
  {
   "cell_type": "code",
   "execution_count": null,
   "id": "initial_id",
   "metadata": {
    "collapsed": true,
    "is_executing": true,
    "ExecuteTime": {
     "start_time": "2023-10-09T10:39:26.666976300Z"
    }
   },
   "outputs": [],
   "source": [
    "def count_solutions(x, y, z, k, target_sum):\n",
    "    if target_sum == 0:\n",
    "        # 如果目标和为0，表示找到一组解\n",
    "        return 1\n",
    "    if target_sum < 0 or x > target_sum or y > target_sum or z > target_sum or k > target_sum:\n",
    "        # 如果目标和小于0或者x、y、z、k的值超过了目标和，没有解\n",
    "        return 0\n",
    "\n",
    "    # 递归调用，分别减去x、y、z、k，然后累加结果\n",
    "    return (count_solutions(x + 1, y, z, k, target_sum) +\n",
    "            count_solutions(x, y + 1, z, k, target_sum) +\n",
    "            count_solutions(x, y, z + 1, k, target_sum) +\n",
    "            count_solutions(x, y, z, k + 1, target_sum))\n",
    "\n",
    "# 调用函数计算解的数量\n",
    "target_sum = 8\n",
    "solutions = count_solutions(1, 1, 1, 1, target_sum)\n",
    "print(f\"满足方程的正整数解的数量为: {solutions}\")\n"
   ]
  }
 ],
 "metadata": {
  "kernelspec": {
   "display_name": "Python 3",
   "language": "python",
   "name": "python3"
  },
  "language_info": {
   "codemirror_mode": {
    "name": "ipython",
    "version": 2
   },
   "file_extension": ".py",
   "mimetype": "text/x-python",
   "name": "python",
   "nbconvert_exporter": "python",
   "pygments_lexer": "ipython2",
   "version": "2.7.6"
  }
 },
 "nbformat": 4,
 "nbformat_minor": 5
}
