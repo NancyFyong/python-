{
 "cells": [
  {
   "cell_type": "code",
   "execution_count": 15,
   "id": "initial_id",
   "metadata": {
    "collapsed": true,
    "ExecuteTime": {
     "end_time": "2023-10-09T10:25:15.143839900Z",
     "start_time": "2023-10-09T10:25:10.529431400Z"
    }
   },
   "outputs": [
    {
     "name": "stdout",
     "output_type": "stream",
     "text": [
      "3.0 4.0\n",
      "点(3.0,4.0)和点(3.0,4.0)之间的距离是0.0\n"
     ]
    }
   ],
   "source": [
    "import math\n",
    "\n",
    "x1,y1=[float(i) for i in (input('输入第一个点的坐标，用逗号分隔:').split(','))]\n",
    "x2,y2=[float(i) for i in (input('输入第一个点的坐标，用逗号分隔:').split(','))]\n",
    "print(x1,y1)\n",
    "p=math.sqrt((x1-x2)**2+(y1-y2)**2)\n",
    "print('点({},{})和点({},{})之间的距离是{}'.format(x1,y1,x2,y2,round(p,2)))\n"
   ]
  }
 ],
 "metadata": {
  "kernelspec": {
   "display_name": "Python 3",
   "language": "python",
   "name": "python3"
  },
  "language_info": {
   "codemirror_mode": {
    "name": "ipython",
    "version": 2
   },
   "file_extension": ".py",
   "mimetype": "text/x-python",
   "name": "python",
   "nbconvert_exporter": "python",
   "pygments_lexer": "ipython2",
   "version": "2.7.6"
  }
 },
 "nbformat": 4,
 "nbformat_minor": 5
}
