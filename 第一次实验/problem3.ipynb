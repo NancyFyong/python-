{
 "cells": [
  {
   "cell_type": "code",
   "execution_count": 15,
   "outputs": [],
   "source": [
    "student=['王若飞','经济管理','会计','2020-9-7']\n",
    "day=student[3].split('-')"
   ],
   "metadata": {
    "collapsed": false,
    "ExecuteTime": {
     "end_time": "2023-10-09T10:11:39.406917200Z",
     "start_time": "2023-10-09T10:11:39.399935500Z"
    }
   },
   "id": "ffb77977bcd59154"
  },
  {
   "cell_type": "code",
   "execution_count": 16,
   "outputs": [
    {
     "name": "stdout",
     "output_type": "stream",
     "text": [
      "王若飞同学，你已被我校经济管理学院会计专业录取，请于2020年9月7日准时到我校报到\n"
     ]
    }
   ],
   "source": [
    "print(\"{}同学，你已被我校{}学院{}专业录取，请于{}年{}月{}日准时到我校报到\".format(student[0],student[1],student[2],day[0],day[1],day[2]))"
   ],
   "metadata": {
    "collapsed": false,
    "ExecuteTime": {
     "end_time": "2023-10-09T10:11:39.450222400Z",
     "start_time": "2023-10-09T10:11:39.405919400Z"
    }
   },
   "id": "initial_id"
  }
 ],
 "metadata": {
  "kernelspec": {
   "display_name": "Python 3",
   "language": "python",
   "name": "python3"
  },
  "language_info": {
   "codemirror_mode": {
    "name": "ipython",
    "version": 2
   },
   "file_extension": ".py",
   "mimetype": "text/x-python",
   "name": "python",
   "nbconvert_exporter": "python",
   "pygments_lexer": "ipython2",
   "version": "2.7.6"
  }
 },
 "nbformat": 4,
 "nbformat_minor": 5
}
