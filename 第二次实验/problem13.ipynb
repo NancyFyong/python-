{
 "cells": [
  {
   "cell_type": "code",
   "execution_count": 3,
   "id": "initial_id",
   "metadata": {
    "collapsed": true,
    "ExecuteTime": {
     "end_time": "2023-10-09T11:51:02.389584Z",
     "start_time": "2023-10-09T11:51:02.374569Z"
    }
   },
   "outputs": [
    {
     "name": "stdout",
     "output_type": "stream",
     "text": [
      "方程的根为：1.8490158267250254\n"
     ]
    }
   ],
   "source": [
    "def binary_search_solve(f, a, b, tol=1e-13):\n",
    "    while (b - a) / 2 > tol:\n",
    "        midpoint = (a + b) / 2\n",
    "        if f(midpoint) == 0:\n",
    "            return midpoint\n",
    "        elif f(a) * f(midpoint) < 0:\n",
    "            b = midpoint\n",
    "        else:\n",
    "            a = midpoint\n",
    "    return (a + b) / 2\n",
    "\n",
    "# 示例：求解方程x^2 - 2 = 0的根\n",
    "def equation(x):\n",
    "    return x**5-15*x**4+85*x**3-225*x**2+274*x-121\n",
    "\n",
    "a = 1.5\n",
    "b = 2.4\n",
    "root = binary_search_solve(equation, a, b)\n",
    "print(f\"方程的根为：{root}\")\n"
   ]
  }
 ],
 "metadata": {
  "kernelspec": {
   "display_name": "Python 3",
   "language": "python",
   "name": "python3"
  },
  "language_info": {
   "codemirror_mode": {
    "name": "ipython",
    "version": 2
   },
   "file_extension": ".py",
   "mimetype": "text/x-python",
   "name": "python",
   "nbconvert_exporter": "python",
   "pygments_lexer": "ipython2",
   "version": "2.7.6"
  }
 },
 "nbformat": 4,
 "nbformat_minor": 5
}
