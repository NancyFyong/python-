{
 "cells": [
  {
   "cell_type": "code",
   "execution_count": 3,
   "id": "initial_id",
   "metadata": {
    "collapsed": true,
    "ExecuteTime": {
     "end_time": "2023-10-09T11:36:51.002220600Z",
     "start_time": "2023-10-09T11:36:49.886429700Z"
    }
   },
   "outputs": [
    {
     "name": "stdout",
     "output_type": "stream",
     "text": [
      "这是大写字母\n"
     ]
    }
   ],
   "source": [
    "x=input()\n",
    "if x>='a' and x<='z':\n",
    "  print('这是小写字母')\n",
    "elif x>='0' and x<='9':\n",
    "  print('这是数字字符')\n",
    "elif x>='A' and x<='Z':\n",
    "  print('这是大写字母')\n",
    "else:\n",
    "  print('这是其他字符')"
   ]
  }
 ],
 "metadata": {
  "kernelspec": {
   "display_name": "Python 3",
   "language": "python",
   "name": "python3"
  },
  "language_info": {
   "codemirror_mode": {
    "name": "ipython",
    "version": 2
   },
   "file_extension": ".py",
   "mimetype": "text/x-python",
   "name": "python",
   "nbconvert_exporter": "python",
   "pygments_lexer": "ipython2",
   "version": "2.7.6"
  }
 },
 "nbformat": 4,
 "nbformat_minor": 5
}
