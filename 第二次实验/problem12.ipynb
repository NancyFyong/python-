{
 "cells": [
  {
   "cell_type": "code",
   "execution_count": 6,
   "id": "initial_id",
   "metadata": {
    "collapsed": true,
    "ExecuteTime": {
     "end_time": "2023-10-09T11:48:13.107815Z",
     "start_time": "2023-10-09T11:48:13.094849400Z"
    }
   },
   "outputs": [],
   "source": [
    "def find_prime(n:int):\n",
    "  st,prime=[False for _ in range(n+1)],[]\n",
    "  for i in range(2,n+1):\n",
    "    if not st[i]:\n",
    "      prime.append(i)\n",
    "    for primes in prime:\n",
    "      if i*primes>n:\n",
    "        break\n",
    "      st[i*primes]=True\n",
    "      if i % primes==0:\n",
    "        break\n",
    "  return len(prime)"
   ]
  },
  {
   "cell_type": "code",
   "execution_count": 7,
   "outputs": [
    {
     "name": "stdout",
     "output_type": "stream",
     "text": [
      "25\n"
     ]
    }
   ],
   "source": [
    "x=int(input())\n",
    "print(find_prime(x))"
   ],
   "metadata": {
    "collapsed": false,
    "ExecuteTime": {
     "end_time": "2023-10-09T11:48:20.213360300Z",
     "start_time": "2023-10-09T11:48:13.105821Z"
    }
   },
   "id": "ddabf311eefd88c6"
  }
 ],
 "metadata": {
  "kernelspec": {
   "display_name": "Python 3",
   "language": "python",
   "name": "python3"
  },
  "language_info": {
   "codemirror_mode": {
    "name": "ipython",
    "version": 2
   },
   "file_extension": ".py",
   "mimetype": "text/x-python",
   "name": "python",
   "nbconvert_exporter": "python",
   "pygments_lexer": "ipython2",
   "version": "2.7.6"
  }
 },
 "nbformat": 4,
 "nbformat_minor": 5
}
