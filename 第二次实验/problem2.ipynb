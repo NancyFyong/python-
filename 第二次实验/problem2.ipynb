{
 "cells": [
  {
   "cell_type": "code",
   "execution_count": 1,
   "id": "initial_id",
   "metadata": {
    "collapsed": true,
    "ExecuteTime": {
     "end_time": "2023-10-09T11:30:06.887681600Z",
     "start_time": "2023-10-09T11:30:05.470397300Z"
    }
   },
   "outputs": [
    {
     "name": "stdout",
     "output_type": "stream",
     "text": [
      "100的成绩为优秀\n"
     ]
    }
   ],
   "source": [
    "score=eval(input('请输入学生成绩:'))\n",
    "if score<0 or score >100:\n",
    "  print('有效成绩应该在1-100之间')\n",
    "elif score>=90 and score<=100:\n",
    "  print('{}的成绩为优秀'.format(score))\n",
    "elif score>=80 and score<90:\n",
    "  print('{}的成绩为良好'.format(score))\n",
    "elif score>=70 and score<80:\n",
    "  print('{}的成绩为中等'.format(score))\n",
    "elif score>=60 and score<70:\n",
    "  print('{}的成绩为及格'.format(score))\n",
    "else:\n",
    "  print('{}的成绩为不及格'.format(score))"
   ]
  }
 ],
 "metadata": {
  "kernelspec": {
   "display_name": "Python 3",
   "language": "python",
   "name": "python3"
  },
  "language_info": {
   "codemirror_mode": {
    "name": "ipython",
    "version": 2
   },
   "file_extension": ".py",
   "mimetype": "text/x-python",
   "name": "python",
   "nbconvert_exporter": "python",
   "pygments_lexer": "ipython2",
   "version": "2.7.6"
  }
 },
 "nbformat": 4,
 "nbformat_minor": 5
}
