{
 "cells": [
  {
   "cell_type": "code",
   "execution_count": 2,
   "id": "initial_id",
   "metadata": {
    "collapsed": true,
    "ExecuteTime": {
     "end_time": "2023-10-09T11:43:38.992256700Z",
     "start_time": "2023-10-09T11:43:34.640043500Z"
    }
   },
   "outputs": [
    {
     "name": "stdout",
     "output_type": "stream",
     "text": [
      "英文字母个数: 4\n",
      "数字字符个数: 3\n",
      "其他字符个数: 0\n"
     ]
    }
   ],
   "source": [
    "# 获取用户输入的字符串\n",
    "user_input = input(\"请输入一个字符串（以回车结束）: \")\n",
    "\n",
    "# 初始化计数变量\n",
    "letter_count = 0\n",
    "digit_count = 0\n",
    "other_count = 0\n",
    "\n",
    "# 遍历字符串中的每个字符\n",
    "for char in user_input:\n",
    "    if char.isalpha():\n",
    "        letter_count += 1\n",
    "    elif char.isdigit():\n",
    "        digit_count += 1\n",
    "    else:\n",
    "        other_count += 1\n",
    "\n",
    "# 输出统计结果\n",
    "print(f\"英文字母个数: {letter_count}\")\n",
    "print(f\"数字字符个数: {digit_count}\")\n",
    "print(f\"其他字符个数: {other_count}\")\n"
   ]
  }
 ],
 "metadata": {
  "kernelspec": {
   "display_name": "Python 3",
   "language": "python",
   "name": "python3"
  },
  "language_info": {
   "codemirror_mode": {
    "name": "ipython",
    "version": 2
   },
   "file_extension": ".py",
   "mimetype": "text/x-python",
   "name": "python",
   "nbconvert_exporter": "python",
   "pygments_lexer": "ipython2",
   "version": "2.7.6"
  }
 },
 "nbformat": 4,
 "nbformat_minor": 5
}
