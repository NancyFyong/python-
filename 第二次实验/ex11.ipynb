{
 "cells": [
  {
   "cell_type": "code",
   "execution_count": 1,
   "id": "initial_id",
   "metadata": {
    "collapsed": true,
    "ExecuteTime": {
     "end_time": "2023-10-09T11:44:25.751690400Z",
     "start_time": "2023-10-09T11:44:18.396089500Z"
    }
   },
   "outputs": [
    {
     "name": "stdout",
     "output_type": "stream",
     "text": [
      "登录失败\n",
      "登录失败\n",
      "登录失败\n",
      "尝试次数已用完，登录失败\n"
     ]
    }
   ],
   "source": [
    "# 设置正确的用户名和密码\n",
    "correct_username = \"admin\"\n",
    "correct_password = \"012345\"\n",
    "\n",
    "# 初始化尝试次数\n",
    "attempts = 0\n",
    "\n",
    "# 循环进行登录验证\n",
    "while attempts < 3:\n",
    "    # 获取用户输入的用户名和密码\n",
    "    username = input(\"请输入用户名: \")\n",
    "    password = input(\"请输入密码: \")\n",
    "\n",
    "    # 检查用户名和密码是否正确\n",
    "    if (username == correct_username or username == \"administrator\") and password == correct_password:\n",
    "        print(\"登录成功\")\n",
    "        break\n",
    "    else:\n",
    "        print(\"登录失败\")\n",
    "        attempts += 1\n",
    "\n",
    "# 如果尝试次数达到3次仍然登录失败\n",
    "if attempts == 3:\n",
    "    print(\"尝试次数已用完，登录失败\")\n"
   ]
  }
 ],
 "metadata": {
  "kernelspec": {
   "display_name": "Python 3",
   "language": "python",
   "name": "python3"
  },
  "language_info": {
   "codemirror_mode": {
    "name": "ipython",
    "version": 2
   },
   "file_extension": ".py",
   "mimetype": "text/x-python",
   "name": "python",
   "nbconvert_exporter": "python",
   "pygments_lexer": "ipython2",
   "version": "2.7.6"
  }
 },
 "nbformat": 4,
 "nbformat_minor": 5
}
