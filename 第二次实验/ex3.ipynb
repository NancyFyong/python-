{
 "cells": [
  {
   "cell_type": "code",
   "execution_count": 1,
   "id": "initial_id",
   "metadata": {
    "collapsed": true,
    "ExecuteTime": {
     "end_time": "2023-10-09T11:31:59.763056800Z",
     "start_time": "2023-10-09T11:31:59.755078200Z"
    }
   },
   "outputs": [
    {
     "name": "stdout",
     "output_type": "stream",
     "text": [
      "1-100的奇数和是2500、偶数和是2550\n"
     ]
    }
   ],
   "source": [
    "s1=s2=0\n",
    "for i in range(1,101):\n",
    "  if i % 2!=0:\n",
    "    s1+=i\n",
    "  else: \n",
    "    s2+=i\n",
    "print('1-100的奇数和是{}、偶数和是{}'.format(s1,s2))"
   ]
  }
 ],
 "metadata": {
  "kernelspec": {
   "display_name": "Python 3",
   "language": "python",
   "name": "python3"
  },
  "language_info": {
   "codemirror_mode": {
    "name": "ipython",
    "version": 2
   },
   "file_extension": ".py",
   "mimetype": "text/x-python",
   "name": "python",
   "nbconvert_exporter": "python",
   "pygments_lexer": "ipython2",
   "version": "2.7.6"
  }
 },
 "nbformat": 4,
 "nbformat_minor": 5
}
